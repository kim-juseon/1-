{
  "nbformat": 4,
  "nbformat_minor": 0,
  "metadata": {
    "colab": {
      "name": "Untitled1.ipynb",
      "provenance": [],
      "collapsed_sections": [],
      "authorship_tag": "ABX9TyPXENTljDEW0MmCDTeep/qz",
      "include_colab_link": true
    },
    "kernelspec": {
      "name": "python3",
      "display_name": "Python 3"
    }
  },
  "cells": [
    {
      "cell_type": "markdown",
      "metadata": {
        "id": "view-in-github",
        "colab_type": "text"
      },
      "source": [
        "<a href=\"https://colab.research.google.com/github/kim-juseon/1-/blob/master/Untitled1.ipynb\" target=\"_parent\"><img src=\"https://colab.research.google.com/assets/colab-badge.svg\" alt=\"Open In Colab\"/></a>"
      ]
    },
    {
      "cell_type": "markdown",
      "metadata": {
        "id": "LN6GwILF8r1j",
        "colab_type": "text"
      },
      "source": [
        ""
      ]
    },
    {
      "cell_type": "markdown",
      "metadata": {
        "id": "1tNjRdYE8uct",
        "colab_type": "text"
      },
      "source": [
        "**#인공지능 사관학교 1주차 과제** \n",
        "\n",
        "1. 음성 활용 분야 - 구글 어시스턴트\n",
        "* 구글에서 제작하여 2016년 발표된 인공지능 비서 서비스\n",
        "* 할 수 있는 작업은 간단한 질문에 대한 대답, 앱 실행으로 할 수 있는 음악 재생, 구글 검색, 타이머 설정, 외국어 번역, 알람 설정, 간단한 대화까지 가능\n",
        "* 개인적으로 삼성 빅스비, 애플 시리와 비교해서 구글 어시스턴트가 더 매끄럽게 대화가 진행되었고, 상대적으로 말을 못 알아 듣는 경우는 없었다. 대화의 폭도 구글 어시스턴트가 더 넓은 느낌을 받았다. 그 외에 검색이나 간단한 작동의 수준은 세가지 모두 큰 차이를 느끼지 못했다.\n",
        "\n",
        "2. 언어 활용 분야 - 네이버 파파고\n",
        "* 국내 포털 최초의 AI 번역 서비스\n",
        "* 현재 번역도는 100점 만점의 65점으로 다소 떨어지는 점수이지만 기술발전속도를 보면 약 7년 후 AI 번역이 일반인 수준을 넘어설 것으로 판단된다.\n",
        "- AI가 웹툰이나 예능 자막도 학습하여 젊은 층의 유행어나 신조어에도 강하다. \n",
        "\n",
        "3. 이미지 활용 분야 - 앤트러피(Entrupy)\n",
        "* 명품을 실시가능로 판별해주는 인공지능 스캐너\n",
        "* 가방이나 신발 등 명품 제품의 표면을 사진으로 찍으면 300만장의 사진을 학습한 AI가 이미지를 분석하여 진품 여부를 판별해준다.\n",
        "* 제품 사진을 찍은다음 시스템이 사물을 260배 확대하여 육안으로 찾아내기 어려운 비정상적인 패턴, 인장과 가죽 잔주름, 페인트칠 등을 보고 진품 여부를 판별한다.\n",
        "* 시스템의 정확도는 98%다.\n",
        "\n",
        "4. 자율주행 분야 - 현대기아차 SCC-ML\n",
        "* 운전자의 주행성향에 맞는 부분 자율주행을 구현하는 기술\n",
        "* 앞차와의 거리를 일정하기 유지해 운전자가 설정한 속도로 주행을 해주는 기능이 SCC인데, SCC-ML은 여기에 AI기술을 더해 운전자의 주행성향을 차가 스스로 학습하여 운전자와 거의 흡사한 패턴으로 자율주행을 한다."
      ]
    }
  ]
}